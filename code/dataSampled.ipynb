{
 "cells": [
  {
   "cell_type": "markdown",
   "metadata": {},
   "source": [
    "# Divide the training set"
   ]
  },
  {
   "cell_type": "code",
   "execution_count": 142,
   "metadata": {},
   "outputs": [],
   "source": [
    "import numpy as np\n",
    "import pandas as pd\n",
    "from sklearn.datasets import make_classification\n",
    "from imblearn.over_sampling import ADASYN\n",
    "from imblearn.under_sampling import TomekLinks\n",
    "from collections import Counter\n",
    "from sklearn.model_selection import train_test_split"
   ]
  },
  {
   "cell_type": "code",
   "execution_count": 143,
   "metadata": {},
   "outputs": [],
   "source": [
    "ori_df = pd.read_csv('dataSelected.csv')"
   ]
  },
  {
   "cell_type": "code",
   "execution_count": 144,
   "metadata": {},
   "outputs": [],
   "source": [
    "X = ori_df.iloc[:,1:]\n",
    "y = ori_df.iloc[:,0]"
   ]
  },
  {
   "cell_type": "code",
   "execution_count": 145,
   "metadata": {},
   "outputs": [
    {
     "data": {
      "text/html": [
       "<div>\n",
       "<style scoped>\n",
       "    .dataframe tbody tr th:only-of-type {\n",
       "        vertical-align: middle;\n",
       "    }\n",
       "\n",
       "    .dataframe tbody tr th {\n",
       "        vertical-align: top;\n",
       "    }\n",
       "\n",
       "    .dataframe thead th {\n",
       "        text-align: right;\n",
       "    }\n",
       "</style>\n",
       "<table border=\"1\" class=\"dataframe\">\n",
       "  <thead>\n",
       "    <tr style=\"text-align: right;\">\n",
       "      <th></th>\n",
       "      <th>Health_insurance</th>\n",
       "      <th>F_exercise</th>\n",
       "      <th>Sleep</th>\n",
       "      <th>Fruit</th>\n",
       "      <th>F_Suffering_from</th>\n",
       "      <th>F_Acute_complications_of_diabetes</th>\n",
       "      <th>F_Hypoglycemia</th>\n",
       "      <th>W_Checked_inside_shoe</th>\n",
       "      <th>W_smoked</th>\n",
       "      <th>PHQ9_Question_2</th>\n",
       "      <th>...</th>\n",
       "      <th>Serum_iron</th>\n",
       "      <th>Ferritin</th>\n",
       "      <th>Transferrin</th>\n",
       "      <th>Glutathione_peroxidase</th>\n",
       "      <th>MDA</th>\n",
       "      <th>Reduced_Glutathione</th>\n",
       "      <th>Reduced-oxidized_glutathione</th>\n",
       "      <th>1-Hydroxypyrene_Creatinine</th>\n",
       "      <th>Hyperlipidemia</th>\n",
       "      <th>Diploma</th>\n",
       "    </tr>\n",
       "  </thead>\n",
       "  <tbody>\n",
       "    <tr>\n",
       "      <th>0</th>\n",
       "      <td>2</td>\n",
       "      <td>1</td>\n",
       "      <td>0</td>\n",
       "      <td>1</td>\n",
       "      <td>0</td>\n",
       "      <td>1</td>\n",
       "      <td>1</td>\n",
       "      <td>0</td>\n",
       "      <td>5</td>\n",
       "      <td>1</td>\n",
       "      <td>...</td>\n",
       "      <td>-0.718287</td>\n",
       "      <td>0.062683</td>\n",
       "      <td>-0.285398</td>\n",
       "      <td>0.785355</td>\n",
       "      <td>0.101452</td>\n",
       "      <td>0.365176</td>\n",
       "      <td>0.267886</td>\n",
       "      <td>-0.600164</td>\n",
       "      <td>3</td>\n",
       "      <td>4</td>\n",
       "    </tr>\n",
       "    <tr>\n",
       "      <th>1</th>\n",
       "      <td>1</td>\n",
       "      <td>0</td>\n",
       "      <td>0</td>\n",
       "      <td>1</td>\n",
       "      <td>1</td>\n",
       "      <td>1</td>\n",
       "      <td>1</td>\n",
       "      <td>0</td>\n",
       "      <td>0</td>\n",
       "      <td>1</td>\n",
       "      <td>...</td>\n",
       "      <td>-0.698796</td>\n",
       "      <td>-0.937781</td>\n",
       "      <td>-0.002755</td>\n",
       "      <td>1.261969</td>\n",
       "      <td>0.321971</td>\n",
       "      <td>0.322987</td>\n",
       "      <td>0.244584</td>\n",
       "      <td>-0.081255</td>\n",
       "      <td>1</td>\n",
       "      <td>2</td>\n",
       "    </tr>\n",
       "    <tr>\n",
       "      <th>2</th>\n",
       "      <td>1</td>\n",
       "      <td>1</td>\n",
       "      <td>0</td>\n",
       "      <td>2</td>\n",
       "      <td>1</td>\n",
       "      <td>1</td>\n",
       "      <td>1</td>\n",
       "      <td>0</td>\n",
       "      <td>3</td>\n",
       "      <td>0</td>\n",
       "      <td>...</td>\n",
       "      <td>-1.484381</td>\n",
       "      <td>-0.283029</td>\n",
       "      <td>0.430988</td>\n",
       "      <td>2.500676</td>\n",
       "      <td>2.393582</td>\n",
       "      <td>0.547727</td>\n",
       "      <td>0.145251</td>\n",
       "      <td>0.014100</td>\n",
       "      <td>2</td>\n",
       "      <td>2</td>\n",
       "    </tr>\n",
       "    <tr>\n",
       "      <th>3</th>\n",
       "      <td>2</td>\n",
       "      <td>0</td>\n",
       "      <td>0</td>\n",
       "      <td>1</td>\n",
       "      <td>1</td>\n",
       "      <td>0</td>\n",
       "      <td>0</td>\n",
       "      <td>0</td>\n",
       "      <td>5</td>\n",
       "      <td>1</td>\n",
       "      <td>...</td>\n",
       "      <td>1.201517</td>\n",
       "      <td>-0.131585</td>\n",
       "      <td>1.054907</td>\n",
       "      <td>1.223722</td>\n",
       "      <td>-0.472789</td>\n",
       "      <td>0.293692</td>\n",
       "      <td>0.114185</td>\n",
       "      <td>1.534257</td>\n",
       "      <td>3</td>\n",
       "      <td>3</td>\n",
       "    </tr>\n",
       "    <tr>\n",
       "      <th>4</th>\n",
       "      <td>1</td>\n",
       "      <td>1</td>\n",
       "      <td>0</td>\n",
       "      <td>1</td>\n",
       "      <td>1</td>\n",
       "      <td>0</td>\n",
       "      <td>0</td>\n",
       "      <td>0</td>\n",
       "      <td>0</td>\n",
       "      <td>0</td>\n",
       "      <td>...</td>\n",
       "      <td>0.590278</td>\n",
       "      <td>1.393812</td>\n",
       "      <td>0.809663</td>\n",
       "      <td>-0.431463</td>\n",
       "      <td>-0.852495</td>\n",
       "      <td>0.523681</td>\n",
       "      <td>0.295415</td>\n",
       "      <td>-1.444377</td>\n",
       "      <td>3</td>\n",
       "      <td>3</td>\n",
       "    </tr>\n",
       "  </tbody>\n",
       "</table>\n",
       "<p>5 rows × 27 columns</p>\n",
       "</div>"
      ],
      "text/plain": [
       "   Health_insurance  F_exercise  Sleep  Fruit  F_Suffering_from  \\\n",
       "0                 2           1      0      1                 0   \n",
       "1                 1           0      0      1                 1   \n",
       "2                 1           1      0      2                 1   \n",
       "3                 2           0      0      1                 1   \n",
       "4                 1           1      0      1                 1   \n",
       "\n",
       "   F_Acute_complications_of_diabetes  F_Hypoglycemia  W_Checked_inside_shoe  \\\n",
       "0                                  1               1                      0   \n",
       "1                                  1               1                      0   \n",
       "2                                  1               1                      0   \n",
       "3                                  0               0                      0   \n",
       "4                                  0               0                      0   \n",
       "\n",
       "   W_smoked  PHQ9_Question_2  ...  Serum_iron  Ferritin  Transferrin  \\\n",
       "0         5                1  ...   -0.718287  0.062683    -0.285398   \n",
       "1         0                1  ...   -0.698796 -0.937781    -0.002755   \n",
       "2         3                0  ...   -1.484381 -0.283029     0.430988   \n",
       "3         5                1  ...    1.201517 -0.131585     1.054907   \n",
       "4         0                0  ...    0.590278  1.393812     0.809663   \n",
       "\n",
       "   Glutathione_peroxidase       MDA  Reduced_Glutathione  \\\n",
       "0                0.785355  0.101452             0.365176   \n",
       "1                1.261969  0.321971             0.322987   \n",
       "2                2.500676  2.393582             0.547727   \n",
       "3                1.223722 -0.472789             0.293692   \n",
       "4               -0.431463 -0.852495             0.523681   \n",
       "\n",
       "   Reduced-oxidized_glutathione  1-Hydroxypyrene_Creatinine  Hyperlipidemia  \\\n",
       "0                      0.267886                   -0.600164               3   \n",
       "1                      0.244584                   -0.081255               1   \n",
       "2                      0.145251                    0.014100               2   \n",
       "3                      0.114185                    1.534257               3   \n",
       "4                      0.295415                   -1.444377               3   \n",
       "\n",
       "   Diploma  \n",
       "0        4  \n",
       "1        2  \n",
       "2        2  \n",
       "3        3  \n",
       "4        3  \n",
       "\n",
       "[5 rows x 27 columns]"
      ]
     },
     "execution_count": 145,
     "metadata": {},
     "output_type": "execute_result"
    }
   ],
   "source": [
    "X.head()"
   ]
  },
  {
   "cell_type": "code",
   "execution_count": 146,
   "metadata": {},
   "outputs": [
    {
     "data": {
      "text/plain": [
       "0    0\n",
       "1    1\n",
       "2    0\n",
       "3    0\n",
       "4    0\n",
       "Name: MOCA_Grade, dtype: int64"
      ]
     },
     "execution_count": 146,
     "metadata": {},
     "output_type": "execute_result"
    }
   ],
   "source": [
    "y.head()"
   ]
  },
  {
   "cell_type": "markdown",
   "metadata": {},
   "source": [
    "## 按7：3划分"
   ]
  },
  {
   "cell_type": "code",
   "execution_count": 147,
   "metadata": {},
   "outputs": [],
   "source": [
    "X_train, X_test, y_train, y_test = train_test_split(X, y, test_size=0.3)"
   ]
  },
  {
   "cell_type": "markdown",
   "metadata": {},
   "source": [
    "#### 合并x_test和y_test"
   ]
  },
  {
   "cell_type": "code",
   "execution_count": 148,
   "metadata": {},
   "outputs": [],
   "source": [
    "ori_test = pd.concat([y_test,X_test], axis=1)"
   ]
  },
  {
   "cell_type": "markdown",
   "metadata": {},
   "source": [
    "### 导出x_test和y_test保持不动"
   ]
  },
  {
   "cell_type": "code",
   "execution_count": 149,
   "metadata": {},
   "outputs": [],
   "source": [
    "#Exporting test sets does not work\n",
    "ori_test.to_csv('./data/test.csv',index=False)"
   ]
  },
  {
   "cell_type": "markdown",
   "metadata": {},
   "source": [
    "## Sampling the training set"
   ]
  },
  {
   "cell_type": "code",
   "execution_count": 150,
   "metadata": {},
   "outputs": [
    {
     "name": "stdout",
     "output_type": "stream",
     "text": [
      "Category distribution of the original data set: Counter({0: 263, 1: 55})\n"
     ]
    }
   ],
   "source": [
    "#X_train,y_train\n",
    "print(f'Category distribution of the original data set: {Counter(y_train)}')"
   ]
  },
  {
   "cell_type": "code",
   "execution_count": 151,
   "metadata": {},
   "outputs": [],
   "source": [
    "# Determine the number of samples for the majority and minority classes\n",
    "n_majority = np.sum(y_train == 0)\n",
    "n_minority = np.sum(y_train == 1)"
   ]
  },
  {
   "cell_type": "code",
   "execution_count": 152,
   "metadata": {},
   "outputs": [
    {
     "name": "stdout",
     "output_type": "stream",
     "text": [
      "Minority class: 263 Majority class: 55\n"
     ]
    }
   ],
   "source": [
    "print(f\"Minority class: {n_majority} Majority class: {n_minority}\")"
   ]
  },
  {
   "cell_type": "markdown",
   "metadata": {},
   "source": [
    "### Oversampling using ADASYN"
   ]
  },
  {
   "cell_type": "code",
   "execution_count": 153,
   "metadata": {},
   "outputs": [],
   "source": [
    "# Oversampling using ADASYN\n",
    "adasyn = ADASYN(sampling_strategy={1:n_majority})\n",
    "X_res, y_res = adasyn.fit_resample(X_train, y_train)"
   ]
  },
  {
   "cell_type": "code",
   "execution_count": 155,
   "metadata": {},
   "outputs": [
    {
     "name": "stdout",
     "output_type": "stream",
     "text": [
      "Category distribution of ADASYN dataset after oversampling: Counter({0: 263, 1: 251})\n"
     ]
    }
   ],
   "source": [
    "print(f'Category distribution of ADASYN dataset after oversampling: {Counter(y_res)}')"
   ]
  },
  {
   "cell_type": "markdown",
   "metadata": {},
   "source": [
    "### Undersampling with Tomek Links"
   ]
  },
  {
   "cell_type": "code",
   "execution_count": 157,
   "metadata": {},
   "outputs": [],
   "source": [
    "# Undersampling with Tomek Links\n",
    "tomek = TomekLinks()\n",
    "X_resampled, y_resampled = tomek.fit_resample(X_res, y_res)"
   ]
  },
  {
   "cell_type": "markdown",
   "metadata": {},
   "source": [
    "## Export training set"
   ]
  },
  {
   "cell_type": "code",
   "execution_count": 159,
   "metadata": {},
   "outputs": [],
   "source": [
    "aft1_train = pd.concat([y_resampled,X_resampled], axis=1)\n",
    "aft1_train.to_csv('./data/train.csv',index=False)"
   ]
  }
 ],
 "metadata": {
  "kernelspec": {
   "display_name": "Python 3",
   "language": "python",
   "name": "python3"
  },
  "language_info": {
   "codemirror_mode": {
    "name": "ipython",
    "version": 3
   },
   "file_extension": ".py",
   "mimetype": "text/x-python",
   "name": "python",
   "nbconvert_exporter": "python",
   "pygments_lexer": "ipython3",
   "version": "3.11.4"
  }
 },
 "nbformat": 4,
 "nbformat_minor": 2
}
